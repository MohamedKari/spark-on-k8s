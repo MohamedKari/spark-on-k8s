{
 "cells": [
  {
   "cell_type": "code",
   "execution_count": 1,
   "metadata": {},
   "outputs": [
    {
     "name": "stdout",
     "output_type": "stream",
     "text": [
      "Doing n iterations:  5000\n",
      "Pi is roughly 3.149600\n",
      "Writing file to S3...\n",
      "Wrote file to S3...\n",
      "Reading file from S3...\n",
      "+------+\n",
      "| value|\n",
      "+------+\n",
      "|3.1496|\n",
      "+------+\n",
      "\n",
      "Read file from S3!\n"
     ]
    }
   ],
   "source": [
    "sc.setLogLevel(\"INFO\")\n",
    "\n",
    "import sys\n",
    "from random import random\n",
    "import numpy as np\n",
    "from operator import add\n",
    "\n",
    "import time\n",
    "\n",
    "from pyspark.sql import SparkSession\n",
    "\n",
    "partitions = 5\n",
    "n = 1000 * partitions\n",
    "\n",
    "print(\"Doing n iterations: \", n)\n",
    "\n",
    "def f(_):\n",
    "    x = np.random.rand() * 2 - 1\n",
    "    y = np.random.rand() * 2 - 1\n",
    "    return 1 if x ** 2 + y ** 2 <= 1 else 0\n",
    "\n",
    "count = spark.sparkContext.parallelize(range(1, n + 1), partitions).map(f).reduce(add)\n",
    "\n",
    "pi_approx = 4.0 * count / n\n",
    "\n",
    "print(\"Pi is roughly %f\" % pi_approx)\n",
    "\n",
    "print(\"Writing file to S3...\")\n",
    "spark \\\n",
    "    .createDataFrame([\n",
    "        pi_approx\n",
    "    ],\n",
    "    \"float\") \\\n",
    "    .write \\\n",
    "    .mode(\"overwrite\") \\\n",
    "    .csv(\"s3a://spark-mo/pi/\")\n",
    "\n",
    "print(\"Wrote file to S3...\")\n",
    "\n",
    "print(\"Reading file from S3...\")\n",
    "lines = spark \\\n",
    "    .read \\\n",
    "    .text(\"s3a://spark-mo/pi/\") \\\n",
    "    .show()\n",
    "\n",
    "print(\"Read file from S3!\")"
   ]
  }
 ],
 "metadata": {
  "kernelspec": {
   "display_name": "python3.7-spark",
   "language": "python",
   "name": "python3.7-spark"
  },
  "language_info": {
   "codemirror_mode": {
    "name": "ipython",
    "version": 3
   },
   "file_extension": ".py",
   "mimetype": "text/x-python",
   "name": "python",
   "nbconvert_exporter": "python",
   "pygments_lexer": "ipython3",
   "version": "3.7.9"
  }
 },
 "nbformat": 4,
 "nbformat_minor": 4
}
